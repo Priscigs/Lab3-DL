{
 "cells": [
  {
   "cell_type": "code",
   "execution_count": 1,
   "id": "121bcb21",
   "metadata": {},
   "outputs": [],
   "source": [
    "import pandas as pd\n",
    "from sklearn.preprocessing import MinMaxScaler\n",
    "from sklearn.model_selection import train_test_split\n",
    "from sklearn.neural_network import MLPRegressor\n"
   ]
  },
  {
   "cell_type": "code",
   "execution_count": 2,
   "id": "714bc07d",
   "metadata": {},
   "outputs": [
    {
     "data": {
      "text/html": [
       "<div>\n",
       "<style scoped>\n",
       "    .dataframe tbody tr th:only-of-type {\n",
       "        vertical-align: middle;\n",
       "    }\n",
       "\n",
       "    .dataframe tbody tr th {\n",
       "        vertical-align: top;\n",
       "    }\n",
       "\n",
       "    .dataframe thead th {\n",
       "        text-align: right;\n",
       "    }\n",
       "</style>\n",
       "<table border=\"1\" class=\"dataframe\">\n",
       "  <thead>\n",
       "    <tr style=\"text-align: right;\">\n",
       "      <th></th>\n",
       "      <th>Month</th>\n",
       "      <th>Sunspots</th>\n",
       "    </tr>\n",
       "  </thead>\n",
       "  <tbody>\n",
       "    <tr>\n",
       "      <th>0</th>\n",
       "      <td>1749-01</td>\n",
       "      <td>58.0</td>\n",
       "    </tr>\n",
       "    <tr>\n",
       "      <th>1</th>\n",
       "      <td>1749-02</td>\n",
       "      <td>62.6</td>\n",
       "    </tr>\n",
       "    <tr>\n",
       "      <th>2</th>\n",
       "      <td>1749-03</td>\n",
       "      <td>70.0</td>\n",
       "    </tr>\n",
       "    <tr>\n",
       "      <th>3</th>\n",
       "      <td>1749-04</td>\n",
       "      <td>55.7</td>\n",
       "    </tr>\n",
       "    <tr>\n",
       "      <th>4</th>\n",
       "      <td>1749-05</td>\n",
       "      <td>85.0</td>\n",
       "    </tr>\n",
       "    <tr>\n",
       "      <th>...</th>\n",
       "      <td>...</td>\n",
       "      <td>...</td>\n",
       "    </tr>\n",
       "    <tr>\n",
       "      <th>2815</th>\n",
       "      <td>1983-08</td>\n",
       "      <td>71.8</td>\n",
       "    </tr>\n",
       "    <tr>\n",
       "      <th>2816</th>\n",
       "      <td>1983-09</td>\n",
       "      <td>50.3</td>\n",
       "    </tr>\n",
       "    <tr>\n",
       "      <th>2817</th>\n",
       "      <td>1983-10</td>\n",
       "      <td>55.8</td>\n",
       "    </tr>\n",
       "    <tr>\n",
       "      <th>2818</th>\n",
       "      <td>1983-11</td>\n",
       "      <td>33.3</td>\n",
       "    </tr>\n",
       "    <tr>\n",
       "      <th>2819</th>\n",
       "      <td>1983-12</td>\n",
       "      <td>33.4</td>\n",
       "    </tr>\n",
       "  </tbody>\n",
       "</table>\n",
       "<p>2820 rows × 2 columns</p>\n",
       "</div>"
      ],
      "text/plain": [
       "        Month  Sunspots\n",
       "0     1749-01      58.0\n",
       "1     1749-02      62.6\n",
       "2     1749-03      70.0\n",
       "3     1749-04      55.7\n",
       "4     1749-05      85.0\n",
       "...       ...       ...\n",
       "2815  1983-08      71.8\n",
       "2816  1983-09      50.3\n",
       "2817  1983-10      55.8\n",
       "2818  1983-11      33.3\n",
       "2819  1983-12      33.4\n",
       "\n",
       "[2820 rows x 2 columns]"
      ]
     },
     "execution_count": 2,
     "metadata": {},
     "output_type": "execute_result"
    }
   ],
   "source": [
    "data = pd.read_csv(\"data.csv\")\n",
    "data"
   ]
  },
  {
   "cell_type": "code",
   "execution_count": 3,
   "id": "b7d4ed54",
   "metadata": {},
   "outputs": [
    {
     "data": {
      "text/html": [
       "<div>\n",
       "<style scoped>\n",
       "    .dataframe tbody tr th:only-of-type {\n",
       "        vertical-align: middle;\n",
       "    }\n",
       "\n",
       "    .dataframe tbody tr th {\n",
       "        vertical-align: top;\n",
       "    }\n",
       "\n",
       "    .dataframe thead th {\n",
       "        text-align: right;\n",
       "    }\n",
       "</style>\n",
       "<table border=\"1\" class=\"dataframe\">\n",
       "  <thead>\n",
       "    <tr style=\"text-align: right;\">\n",
       "      <th></th>\n",
       "      <th>Month</th>\n",
       "      <th>Sunspots</th>\n",
       "    </tr>\n",
       "  </thead>\n",
       "  <tbody>\n",
       "    <tr>\n",
       "      <th>0</th>\n",
       "      <td>1749-01-01</td>\n",
       "      <td>58.0</td>\n",
       "    </tr>\n",
       "    <tr>\n",
       "      <th>1</th>\n",
       "      <td>1749-02-01</td>\n",
       "      <td>62.6</td>\n",
       "    </tr>\n",
       "    <tr>\n",
       "      <th>2</th>\n",
       "      <td>1749-03-01</td>\n",
       "      <td>70.0</td>\n",
       "    </tr>\n",
       "    <tr>\n",
       "      <th>3</th>\n",
       "      <td>1749-04-01</td>\n",
       "      <td>55.7</td>\n",
       "    </tr>\n",
       "    <tr>\n",
       "      <th>4</th>\n",
       "      <td>1749-05-01</td>\n",
       "      <td>85.0</td>\n",
       "    </tr>\n",
       "    <tr>\n",
       "      <th>...</th>\n",
       "      <td>...</td>\n",
       "      <td>...</td>\n",
       "    </tr>\n",
       "    <tr>\n",
       "      <th>2815</th>\n",
       "      <td>1983-08-01</td>\n",
       "      <td>71.8</td>\n",
       "    </tr>\n",
       "    <tr>\n",
       "      <th>2816</th>\n",
       "      <td>1983-09-01</td>\n",
       "      <td>50.3</td>\n",
       "    </tr>\n",
       "    <tr>\n",
       "      <th>2817</th>\n",
       "      <td>1983-10-01</td>\n",
       "      <td>55.8</td>\n",
       "    </tr>\n",
       "    <tr>\n",
       "      <th>2818</th>\n",
       "      <td>1983-11-01</td>\n",
       "      <td>33.3</td>\n",
       "    </tr>\n",
       "    <tr>\n",
       "      <th>2819</th>\n",
       "      <td>1983-12-01</td>\n",
       "      <td>33.4</td>\n",
       "    </tr>\n",
       "  </tbody>\n",
       "</table>\n",
       "<p>2820 rows × 2 columns</p>\n",
       "</div>"
      ],
      "text/plain": [
       "          Month  Sunspots\n",
       "0    1749-01-01      58.0\n",
       "1    1749-02-01      62.6\n",
       "2    1749-03-01      70.0\n",
       "3    1749-04-01      55.7\n",
       "4    1749-05-01      85.0\n",
       "...         ...       ...\n",
       "2815 1983-08-01      71.8\n",
       "2816 1983-09-01      50.3\n",
       "2817 1983-10-01      55.8\n",
       "2818 1983-11-01      33.3\n",
       "2819 1983-12-01      33.4\n",
       "\n",
       "[2820 rows x 2 columns]"
      ]
     },
     "execution_count": 3,
     "metadata": {},
     "output_type": "execute_result"
    }
   ],
   "source": [
    "# 2. PREPROCESAMIENTO DE DATOS\n",
    "# Convertir la columna \"Month\" en un número de meses desde la fecha inicial\n",
    "data['Month'] = pd.to_datetime(data['Month'])\n",
    "data"
   ]
  },
  {
   "cell_type": "code",
   "execution_count": 7,
   "id": "fdc9ef95",
   "metadata": {},
   "outputs": [],
   "source": [
    "# 3. PREPROCESAMIENTO DE DATOS\n",
    "# Dividir el dataset en features (X) y target (y)\n",
    "X = data[['Month']]\n",
    "y = data['Sunspots']\n",
    "\n",
    "# Normalizar los datos\n",
    "scaler_X = MinMaxScaler()\n",
    "scaler_y = MinMaxScaler()\n",
    "X = scaler_X.fit_transform(X)\n",
    "y = scaler_y.fit_transform(y.values.reshape(-1, 1))"
   ]
  },
  {
   "cell_type": "markdown",
   "id": "4c4701ef",
   "metadata": {},
   "source": [
    "### Primera Red: Feed Forward NN (Red Simple) "
   ]
  },
  {
   "cell_type": "code",
   "execution_count": 8,
   "id": "3be3ba56",
   "metadata": {},
   "outputs": [
    {
     "name": "stdout",
     "output_type": "stream",
     "text": [
      "MSE: 0.026854056760068266\n"
     ]
    }
   ],
   "source": [
    "# Dividir en conjuntos de entrenamiento y prueba\n",
    "X_train, X_test, y_train, y_test = train_test_split(X, y, test_size=0.2, random_state=42)\n",
    "\n",
    "# 4. CONSTRUIR Y ENTRENAR EL MODELO\n",
    "# Creando un modelo de perceptrón multicapa (MLP)\n",
    "mlp = MLPRegressor(hidden_layer_sizes=(64, 32), activation='relu', solver='adam', max_iter=1000, random_state=42)\n",
    "\n",
    "# Entrenando el modelo\n",
    "mlp.fit(X_train, y_train.ravel())\n",
    "\n",
    "# 5. EVALUAR EL MODELO\n",
    "mlp_loss = ((mlp.predict(X_test) - y_test.ravel())**2).mean()\n",
    "print(f\"MSE: {mlp_loss}\")"
   ]
  },
  {
   "cell_type": "markdown",
   "id": "fa71fe6a",
   "metadata": {},
   "source": [
    "### Segunda Red: RNN"
   ]
  },
  {
   "cell_type": "markdown",
   "id": "83e42a6e",
   "metadata": {},
   "source": [
    "### Tercera Red: RNN"
   ]
  },
  {
   "cell_type": "code",
   "execution_count": 3,
   "id": "6211de71",
   "metadata": {},
   "outputs": [],
   "source": [
    "import pandas as pd\n",
    "import numpy as np\n",
    "from sklearn.preprocessing import MinMaxScaler\n",
    "from sklearn.model_selection import train_test_split\n",
    "from sklearn.neural_network import MLPRegressor"
   ]
  },
  {
   "cell_type": "code",
   "execution_count": 4,
   "id": "313dcc14",
   "metadata": {},
   "outputs": [],
   "source": [
    "# 1. CARGANDO LOS DATOS\n",
    "data_lstm = pd.read_csv(\"data.csv\")\n",
    "\n",
    "# 2. PREPROCESAMIENTO DE DATOS\n",
    "# Convertir la columna \"Month\" en un formato de fecha\n",
    "data_lstm['Month'] = pd.to_datetime(data_lstm['Month'])"
   ]
  },
  {
   "cell_type": "code",
   "execution_count": 5,
   "id": "7d6ea104",
   "metadata": {},
   "outputs": [
    {
     "name": "stdout",
     "output_type": "stream",
     "text": [
      "MSE: 0.004208807754181248\n"
     ]
    }
   ],
   "source": [
    "\n",
    "# Escalar la columna \"Sunspots\"\n",
    "scaler = MinMaxScaler()\n",
    "data_lstm[\"Sunspots\"] = scaler.fit_transform(data_lstm[\"Sunspots\"].values.reshape(-1, 1))\n",
    "\n",
    "# Crear secuencias de datos\n",
    "SEQUENCE_LENGTH = 10  # Longitud de la secuencia\n",
    "\n",
    "X, y = [], []\n",
    "for i in range(len(data_lstm) - SEQUENCE_LENGTH):\n",
    "    X.append(data_lstm[\"Sunspots\"].iloc[i : i + SEQUENCE_LENGTH].values)\n",
    "    y.append(data_lstm[\"Sunspots\"].iloc[i + SEQUENCE_LENGTH])\n",
    "\n",
    "# Convertir a arrays numpy para el entrenamiento\n",
    "X = np.array(X)\n",
    "y = np.array(y)\n",
    "\n",
    "# Dividir en conjuntos de entrenamiento y prueba\n",
    "X_train, X_test, y_train, y_test = train_test_split(X, y, test_size=0.2, random_state=42)\n",
    "\n",
    "# 3. CONSTRUIR Y ENTRENAR EL MODELO\n",
    "# Creando un modelo de perceptrón multicapa (MLP) como aproximación de LSTM\n",
    "mlp_lstm = MLPRegressor(hidden_layer_sizes=(100, 50), activation='relu', solver='adam', max_iter=1000, random_state=42)\n",
    "\n",
    "# Entrenar el modelo\n",
    "mlp_lstm.fit(X_train, y_train)\n",
    "\n",
    "# 4. EVALUAR EL MODELO\n",
    "mlp_lstm_loss = ((mlp_lstm.predict(X_test) - y_test)**2).mean()\n",
    "print(f\"MSE: {mlp_lstm_loss}\")"
   ]
  },
  {
   "cell_type": "code",
   "execution_count": null,
   "id": "b1388b8c",
   "metadata": {},
   "outputs": [],
   "source": []
  }
 ],
 "metadata": {
  "kernelspec": {
   "display_name": "Python 3 (ipykernel)",
   "language": "python",
   "name": "python3"
  },
  "language_info": {
   "codemirror_mode": {
    "name": "ipython",
    "version": 3
   },
   "file_extension": ".py",
   "mimetype": "text/x-python",
   "name": "python",
   "nbconvert_exporter": "python",
   "pygments_lexer": "ipython3",
   "version": "3.11.1"
  }
 },
 "nbformat": 4,
 "nbformat_minor": 5
}
